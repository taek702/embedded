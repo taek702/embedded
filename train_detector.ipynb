{
 "cells": [
  {
   "cell_type": "markdown",
   "id": "649e6066",
   "metadata": {},
   "source": [
    "# [ Settings ]"
   ]
  },
  {
   "cell_type": "markdown",
   "id": "f8aead3a",
   "metadata": {},
   "source": [
    "- Visit google drive (https://drive.google.com)\n",
    "- Create a folder (example: hyu)\n",
    "- Upload this entire folder (i.e., HYU-ECL3003) to the folder\n",
    "- Open `train_detector.ipynb` on google drive (this action will open google colab session)\n",
    "- Switch runtime to `T4 GPU`"
   ]
  },
  {
   "cell_type": "code",
   "execution_count": 1,
   "id": "ef49ee61",
   "metadata": {},
   "outputs": [
    {
     "ename": "ModuleNotFoundError",
     "evalue": "No module named 'google.colab'",
     "output_type": "error",
     "traceback": [
      "\u001b[0;31m---------------------------------------------------------------------------\u001b[0m",
      "\u001b[0;31mModuleNotFoundError\u001b[0m                       Traceback (most recent call last)",
      "Cell \u001b[0;32mIn[1], line 2\u001b[0m\n\u001b[1;32m      1\u001b[0m \u001b[38;5;66;03m# Mount google drive\u001b[39;00m\n\u001b[0;32m----> 2\u001b[0m \u001b[38;5;28;01mfrom\u001b[39;00m\u001b[38;5;250m \u001b[39m\u001b[38;5;21;01mgoogle\u001b[39;00m\u001b[38;5;21;01m.\u001b[39;00m\u001b[38;5;21;01mcolab\u001b[39;00m\u001b[38;5;250m \u001b[39m\u001b[38;5;28;01mimport\u001b[39;00m drive\n\u001b[1;32m      3\u001b[0m drive\u001b[38;5;241m.\u001b[39mmount(\u001b[38;5;124m'\u001b[39m\u001b[38;5;124m/content/drive/\u001b[39m\u001b[38;5;124m'\u001b[39m)\n\u001b[1;32m      5\u001b[0m \u001b[38;5;66;03m# Move to the new directory\u001b[39;00m\n",
      "\u001b[0;31mModuleNotFoundError\u001b[0m: No module named 'google.colab'"
     ]
    }
   ],
   "source": [
    "# Mount google drive\n",
    "from google.colab import drive\n",
    "drive.mount('/content/drive/')\n",
    "\n",
    "# Move to the new directory\n",
    "import os\n",
    "os.chdir(\"/content/drive/MyDrive/hyu/HYU-ECL3003\")"
   ]
  },
  {
   "cell_type": "code",
   "execution_count": 10,
   "id": "d1b11a6e",
   "metadata": {},
   "outputs": [
    {
     "name": "stdout",
     "output_type": "stream",
     "text": [
      "Defaulting to user installation because normal site-packages is not writeable\n",
      "Requirement already satisfied: pyserial in /home/ircv11/.local/lib/python3.10/site-packages (from -r requirements.txt (line 1)) (3.5)\n",
      "Requirement already satisfied: opencv-python in /home/ircv11/.local/lib/python3.10/site-packages (from -r requirements.txt (line 2)) (4.11.0)\n",
      "Requirement already satisfied: pyttsx3 in /home/ircv11/.local/lib/python3.10/site-packages (from -r requirements.txt (line 3)) (2.98)\n",
      "Requirement already satisfied: pynput in /home/ircv11/.local/lib/python3.10/site-packages (from -r requirements.txt (line 4)) (1.8.1)\n",
      "Requirement already satisfied: ipywidgets==8.1.2 in /home/ircv11/.local/lib/python3.10/site-packages (from -r requirements.txt (line 5)) (8.1.2)\n",
      "Requirement already satisfied: ipycanvas==0.13.2 in /home/ircv11/.local/lib/python3.10/site-packages (from -r requirements.txt (line 6)) (0.13.2)\n",
      "Collecting ultralytics==8.3.132\n",
      "  Using cached ultralytics-8.3.132-py3-none-any.whl (1.0 MB)\n",
      "Requirement already satisfied: onnx>=1.12.0 in /home/ircv11/.local/lib/python3.10/site-packages (from -r requirements.txt (line 8)) (1.16.0)\n",
      "Collecting onnxslim>=0.1.46\n",
      "  Using cached onnxslim-0.1.52-py3-none-any.whl (145 kB)\n",
      "\u001b[31mERROR: Could not find a version that satisfies the requirement onnxruntime-gpu (from versions: none)\u001b[0m\u001b[31m\n",
      "\u001b[0m\u001b[31mERROR: No matching distribution found for onnxruntime-gpu\u001b[0m\u001b[31m\n",
      "\u001b[0m"
     ]
    }
   ],
   "source": [
    "! pip install -r requirements.txt"
   ]
  },
  {
   "cell_type": "code",
   "execution_count": 1,
   "id": "54ce8e6b",
   "metadata": {},
   "outputs": [
    {
     "data": {
      "text/plain": [
       "0"
      ]
     },
     "execution_count": 1,
     "metadata": {},
     "output_type": "execute_result"
    }
   ],
   "source": [
    "import os\n",
    "os.makedirs(\"data1\", exist_ok=True)\n",
    "\n",
    "import zipfile\n",
    "with zipfile.ZipFile('/home/ircv11/gptiny/detection2.zip') as target_file:\n",
    "  target_file.extractall('data1/')\n",
    "\n",
    "os.system('echo \"val: train.txt\" >> data1/data1.yaml')"
   ]
  },
  {
   "cell_type": "markdown",
   "id": "a75c7717",
   "metadata": {},
   "source": [
    "# [ Extract images ]"
   ]
  },
  {
   "cell_type": "code",
   "execution_count": 11,
   "id": "8751f7af",
   "metadata": {},
   "outputs": [],
   "source": [
    "import cv2\n",
    "import os\n",
    "\n",
    "capture = cv2.VideoCapture(\"output_1.avi\")\n",
    "assert capture.isOpened(), \"Cannot open the video file.\"\n",
    "\n",
    "num_frames = int(capture.get(cv2.CAP_PROP_FRAME_COUNT))\n",
    "\n",
    "# Prepare folders\n",
    "img_filename_fmt = 'data/images/train/frame_{:06d}.png'\n",
    "dirname = os.path.dirname(img_filename_fmt)\n",
    "os.makedirs(dirname, exist_ok=True)\n",
    "\n",
    "for ii in range(num_frames):\n",
    "    _, frame = capture.read()\n",
    "    cv2.imwrite(img_filename_fmt.format(ii), frame)\n",
    "\n",
    "capture.release()"
   ]
  },
  {
   "cell_type": "code",
   "execution_count": null,
   "id": "8a1c2d6e",
   "metadata": {},
   "outputs": [],
   "source": [
    "import cv2\n",
    "import os\n",
    "\n",
    "# 영상 열기\n",
    "capture = cv2.VideoCapture(\"video/car1.avi\")\n",
    "assert capture.isOpened(), \"영상을 열 수 없습니다.\"\n",
    "\n",
    "# 원본 영상의 총 프레임 수와 FPS 확인\n",
    "num_frames = int(capture.get(cv2.CAP_PROP_FRAME_COUNT))\n",
    "original_fps = capture.get(cv2.CAP_PROP_FPS)\n",
    "\n",
    "# 타겟 FPS 설정 (10fps로 추출)\n",
    "target_fps = 4\n",
    "frame_interval = int(original_fps // target_fps)  # 몇 프레임마다 저장할지 계산\n",
    "\n",
    "# 저장할 디렉토리 생성\n",
    "img_filename_fmt = 'car_/images/train/cframe_{:06d}.png'\n",
    "dirname = os.path.dirname(img_filename_fmt)\n",
    "os.makedirs(dirname, exist_ok=True)\n",
    "\n",
    "frame_index = 0\n",
    "saved_index = 0\n",
    "\n",
    "while True:\n",
    "    ret, frame = capture.read()\n",
    "    if not ret:\n",
    "        break\n",
    "\n",
    "    # 지정한 간격에 해당하는 프레임만 저장\n",
    "    if frame_index % frame_interval == 0:\n",
    "        filename = img_filename_fmt.format(saved_index)\n",
    "        cv2.imwrite(filename, frame)\n",
    "        saved_index += 1\n",
    "\n",
    "    frame_index += 1\n",
    "\n",
    "capture.release()\n"
   ]
  },
  {
   "cell_type": "markdown",
   "id": "207ee9cf",
   "metadata": {},
   "source": [
    "# [ Create symlink ]"
   ]
  },
  {
   "cell_type": "code",
   "execution_count": null,
   "id": "529ddeec",
   "metadata": {},
   "outputs": [],
   "source": [
    "import os\n",
    "os.symlink('data', 'datasets')"
   ]
  },
  {
   "cell_type": "markdown",
   "id": "7d4e81fc",
   "metadata": {},
   "source": [
    "# [ Train a YOLO model ]"
   ]
  },
  {
   "cell_type": "code",
   "execution_count": null,
   "id": "f3c6f699",
   "metadata": {},
   "outputs": [
    {
     "name": "stdout",
     "output_type": "stream",
     "text": [
      "New https://pypi.org/project/ultralytics/8.3.140 available 😃 Update with 'pip install -U ultralytics'\n",
      "Ultralytics 8.3.133 🚀 Python-3.10.12 torch-2.5.0 CUDA:0 (Orin, 7620MiB)\n",
      "\u001b[34m\u001b[1mengine/trainer: \u001b[0magnostic_nms=False, amp=True, augment=False, auto_augment=randaugment, batch=16, bgr=0.0, box=7.5, cache=False, cfg=None, classes=None, close_mosaic=10, cls=0.5, conf=None, copy_paste=0.0, copy_paste_mode=flip, cos_lr=False, cutmix=0.0, data=/home/ircv11/gptiny/data/data.yaml, degrees=0.0, deterministic=True, device=0, dfl=1.5, dnn=False, dropout=0.0, dynamic=False, embed=None, epochs=20, erasing=0.4, exist_ok=False, fliplr=0.0, flipud=0.0, format=torchscript, fraction=1.0, freeze=None, half=False, hsv_h=0.0, hsv_s=0.7, hsv_v=0.4, imgsz=640, int8=False, iou=0.7, keras=False, kobj=1.0, line_width=None, lr0=0.01, lrf=0.01, mask_ratio=4, max_det=300, mixup=0.0, mode=train, model=yolo11n.pt, momentum=0.937, mosaic=1.0, multi_scale=False, name=train2, nbs=64, nms=False, opset=None, optimize=False, optimizer=Adam, overlap_mask=True, patience=100, perspective=0.0, plots=True, pose=12.0, pretrained=True, profile=False, project=None, rect=False, resume=False, retina_masks=False, save=True, save_conf=False, save_crop=False, save_dir=runs/detect/train2, save_frames=False, save_json=False, save_period=-1, save_txt=False, scale=0.5, seed=0, shear=0.0, show=False, show_boxes=True, show_conf=True, show_labels=True, simplify=True, single_cls=False, source=None, split=val, stream_buffer=False, task=detect, time=None, tracker=botsort.yaml, translate=0.1, val=True, verbose=True, vid_stride=1, visualize=False, warmup_bias_lr=0.1, warmup_epochs=3.0, warmup_momentum=0.8, weight_decay=0.0005, workers=8, workspace=None\n",
      "Overriding model.yaml nc=80 with nc=8\n",
      "\n",
      "                   from  n    params  module                                       arguments                     \n",
      "  0                  -1  1       464  ultralytics.nn.modules.conv.Conv             [3, 16, 3, 2]                 \n",
      "  1                  -1  1      4672  ultralytics.nn.modules.conv.Conv             [16, 32, 3, 2]                \n",
      "  2                  -1  1      6640  ultralytics.nn.modules.block.C3k2            [32, 64, 1, False, 0.25]      \n",
      "  3                  -1  1     36992  ultralytics.nn.modules.conv.Conv             [64, 64, 3, 2]                \n",
      "  4                  -1  1     26080  ultralytics.nn.modules.block.C3k2            [64, 128, 1, False, 0.25]     \n",
      "  5                  -1  1    147712  ultralytics.nn.modules.conv.Conv             [128, 128, 3, 2]              \n",
      "  6                  -1  1     87040  ultralytics.nn.modules.block.C3k2            [128, 128, 1, True]           \n",
      "  7                  -1  1    295424  ultralytics.nn.modules.conv.Conv             [128, 256, 3, 2]              \n",
      "  8                  -1  1    346112  ultralytics.nn.modules.block.C3k2            [256, 256, 1, True]           \n",
      "  9                  -1  1    164608  ultralytics.nn.modules.block.SPPF            [256, 256, 5]                 \n",
      " 10                  -1  1    249728  ultralytics.nn.modules.block.C2PSA           [256, 256, 1]                 \n",
      " 11                  -1  1         0  torch.nn.modules.upsampling.Upsample         [None, 2, 'nearest']          \n",
      " 12             [-1, 6]  1         0  ultralytics.nn.modules.conv.Concat           [1]                           \n",
      " 13                  -1  1    111296  ultralytics.nn.modules.block.C3k2            [384, 128, 1, False]          \n",
      " 14                  -1  1         0  torch.nn.modules.upsampling.Upsample         [None, 2, 'nearest']          \n",
      " 15             [-1, 4]  1         0  ultralytics.nn.modules.conv.Concat           [1]                           \n",
      " 16                  -1  1     32096  ultralytics.nn.modules.block.C3k2            [256, 64, 1, False]           \n",
      " 17                  -1  1     36992  ultralytics.nn.modules.conv.Conv             [64, 64, 3, 2]                \n",
      " 18            [-1, 13]  1         0  ultralytics.nn.modules.conv.Concat           [1]                           \n",
      " 19                  -1  1     86720  ultralytics.nn.modules.block.C3k2            [192, 128, 1, False]          \n",
      " 20                  -1  1    147712  ultralytics.nn.modules.conv.Conv             [128, 128, 3, 2]              \n",
      " 21            [-1, 10]  1         0  ultralytics.nn.modules.conv.Concat           [1]                           \n",
      " 22                  -1  1    378880  ultralytics.nn.modules.block.C3k2            [384, 256, 1, True]           \n",
      " 23        [16, 19, 22]  1    432232  ultralytics.nn.modules.head.Detect           [8, [64, 128, 256]]           \n",
      "YOLO11n summary: 181 layers, 2,591,400 parameters, 2,591,384 gradients, 6.4 GFLOPs\n",
      "\n",
      "Transferred 448/499 items from pretrained weights\n",
      "Freezing layer 'model.23.dfl.conv.weight'\n",
      "\u001b[34m\u001b[1mAMP: \u001b[0mrunning Automatic Mixed Precision (AMP) checks...\n"
     ]
    }
   ],
   "source": [
    "from ultralytics import YOLO\n",
    "\n",
    "# Load a pretrained YOLO11n model\n",
    "model = YOLO(\"vehicle.pt\")\n",
    "\n",
    "# #Train the model on the COCO8 dataset for 100 epochs\n",
    "# train_results = model.train(\n",
    "#     data=\"/home/ircv11/gptiny/data/data.yaml\",  # Path to dataset configuration file\n",
    "#     epochs=20,  # Number of training epochs\n",
    "#     imgsz=640,  # Image size for training\n",
    "#     device=0,  # Device to run on (e.g., 'cpu', 0, [0,1,2,3])\n",
    "#     fliplr = 0.0,\n",
    "#     hsv_h=0.0,\n",
    "#     optimizer='Adam',\n",
    "#     lr0=1e-2,\n",
    "# )"
   ]
  },
  {
   "cell_type": "markdown",
   "id": "f77ae973",
   "metadata": {},
   "source": [
    "# [ Make an inference ]"
   ]
  },
  {
   "cell_type": "code",
   "execution_count": null,
   "id": "9615e75d",
   "metadata": {},
   "outputs": [
    {
     "name": "stdout",
     "output_type": "stream",
     "text": [
      "\n",
      "image 1/1 /home/ircv11/HYU-ECL3003/rover/data/images/train/frame_000100.png: 384x640 3 persons, 1 chair, 1 laptop, 50.7ms\n",
      "Speed: 2.7ms preprocess, 50.7ms inference, 9.0ms postprocess per image at shape (1, 3, 384, 640)\n"
     ]
    }
   ],
   "source": [
    "# Evaluate the model's performance on the validation set\n",
    "metrics = model.val()\n",
    "\n",
    "# Perform object detection on an image\n",
    "results = model('/home/ircv11/HYU-ECL3003/rover/data/images/train/frame_000100.png')  # Predict on an image\n",
    "results[0].show()  # Display results"
   ]
  },
  {
   "cell_type": "code",
   "execution_count": null,
   "id": "95163946",
   "metadata": {},
   "outputs": [],
   "source": [
    "\n",
    "# # Export the model to ONNX format for deployment\n",
    "path = model.export(format=\"onnx\")  # Returns the path to the exported model"
   ]
  }
 ],
 "metadata": {
  "kernelspec": {
   "display_name": "Python 3",
   "language": "python",
   "name": "python3"
  },
  "language_info": {
   "codemirror_mode": {
    "name": "ipython",
    "version": 3
   },
   "file_extension": ".py",
   "mimetype": "text/x-python",
   "name": "python",
   "nbconvert_exporter": "python",
   "pygments_lexer": "ipython3",
   "version": "3.10.12"
  }
 },
 "nbformat": 4,
 "nbformat_minor": 5
}
